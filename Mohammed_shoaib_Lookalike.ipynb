{
 "cells": [
  {
   "cell_type": "code",
   "execution_count": 1,
   "id": "f4e61ffb-4d64-46b3-81ea-242425509cf5",
   "metadata": {},
   "outputs": [
    {
     "name": "stdout",
     "output_type": "stream",
     "text": [
      "Lookalike model recommendations saved!\n"
     ]
    }
   ],
   "source": [
    "import pandas as pd\n",
    "from sklearn.metrics.pairwise import cosine_similarity\n",
    "import numpy as np\n",
    "\n",
    "# Load the data\n",
    "customers = pd.read_csv(\"Customers.csv\")\n",
    "products = pd.read_csv(\"Products.csv\")\n",
    "transactions = pd.read_csv(\"Transactions.csv\")\n",
    "\n",
    "# Merge datasets\n",
    "merged_data = transactions.merge(customers, on=\"CustomerID\").merge(products, on=\"ProductID\")\n",
    "\n",
    "# Feature engineering: Summarize customer data\n",
    "customer_features = merged_data.groupby(\"CustomerID\").agg({\n",
    "    \"TotalValue\": \"sum\",\n",
    "    \"Quantity\": \"mean\",\n",
    "    \"ProductID\": \"count\",  # Total transactions\n",
    "    \"Category\": lambda x: x.mode()[0]  # Most common category\n",
    "}).rename(columns={\"TotalValue\": \"TotalSpending\", \"ProductID\": \"TotalTransactions\"})\n",
    "\n",
    "# Encode categorical data (e.g., Category) using one-hot encoding\n",
    "customer_features = pd.get_dummies(customer_features, columns=[\"Category\"])\n",
    "\n",
    "# Compute similarity matrix\n",
    "similarity_matrix = cosine_similarity(customer_features)\n",
    "\n",
    "# Generate recommendations for the first 20 customers\n",
    "customer_ids = customer_features.index\n",
    "recommendations = {}\n",
    "\n",
    "for idx, customer_id in enumerate(customer_ids[:20]):\n",
    "    similar_indices = np.argsort(similarity_matrix[idx])[::-1][1:4]  # Top 3 similar customers\n",
    "    similar_customers = customer_ids[similar_indices]\n",
    "    similarity_scores = similarity_matrix[idx][similar_indices]\n",
    "    recommendations[customer_id] = list(zip(similar_customers, similarity_scores))\n",
    "\n",
    "# Save recommendations to a CSV\n",
    "output_data = []\n",
    "for customer_id, recs in recommendations.items():\n",
    "    row = [customer_id]\n",
    "    for rec in recs:\n",
    "        row.extend(rec)  # Add similar customer and their score\n",
    "    output_data.append(row)\n",
    "\n",
    "output_df = pd.DataFrame(output_data, columns=[\n",
    "    \"CustomerID\", \"Lookalike1\", \"Score1\", \"Lookalike2\", \"Score2\", \"Lookalike3\", \"Score3\"\n",
    "])\n",
    "output_df.to_csv(\"FirstName_LastName_Lookalike.csv\", index=False)\n",
    "\n",
    "print(\"Lookalike model recommendations saved!\")\n"
   ]
  },
  {
   "cell_type": "code",
   "execution_count": null,
   "id": "dcc122fa-31a3-4a7d-9f21-e79b45137144",
   "metadata": {},
   "outputs": [],
   "source": []
  }
 ],
 "metadata": {
  "kernelspec": {
   "display_name": "Python 3 (ipykernel)",
   "language": "python",
   "name": "python3"
  },
  "language_info": {
   "codemirror_mode": {
    "name": "ipython",
    "version": 3
   },
   "file_extension": ".py",
   "mimetype": "text/x-python",
   "name": "python",
   "nbconvert_exporter": "python",
   "pygments_lexer": "ipython3",
   "version": "3.13.1"
  }
 },
 "nbformat": 4,
 "nbformat_minor": 5
}
